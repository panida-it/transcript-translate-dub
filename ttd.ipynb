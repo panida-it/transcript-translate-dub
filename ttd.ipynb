{
 "cells": [
  {
   "cell_type": "code",
   "execution_count": 18,
   "metadata": {},
   "outputs": [],
   "source": [
    "import os\n",
    "\n",
    "myfile = \"output_audio.wav\"\n",
    "if os.path.isfile(myfile):\n",
    "    os.remove(myfile)\n",
    "myfile = \"transcript.txt\"\n",
    "if os.path.isfile(myfile):\n",
    "    os.remove(myfile)\n",
    "myfile = \"translated_transcript.txt\"\n",
    "if os.path.isfile(myfile):\n",
    "    os.remove(myfile)\n",
    "myfile = \"indonesian_dubbed_audio.wav\"\n",
    "if os.path.isfile(myfile):\n",
    "    os.remove(myfile)\n",
    "myfile = \"sped_up_audio.wav\"\n",
    "if os.path.isfile(myfile):\n",
    "    os.remove(myfile)\n",
    "myfile = \"output_video_with_dub.mp4\"\n",
    "if os.path.isfile(myfile):\n",
    "    os.remove(myfile)"
   ]
  },
  {
   "cell_type": "code",
   "execution_count": 19,
   "metadata": {},
   "outputs": [
    {
     "data": {
      "text/plain": [
       "(None, None)"
      ]
     },
     "execution_count": 19,
     "metadata": {},
     "output_type": "execute_result"
    }
   ],
   "source": [
    "import ffmpeg\n",
    "(\n",
    "\tffmpeg.input(\"input_video.mp4\")\n",
    "\t.output(\"output_audio.wav\")\n",
    "\t.run()\n",
    ")"
   ]
  },
  {
   "cell_type": "code",
   "execution_count": 20,
   "metadata": {},
   "outputs": [],
   "source": [
    "import whisper\n",
    "\n",
    "model = whisper.load_model(\"base\")\n",
    "result = model.transcribe(\"output_audio.wav\")\n",
    "english_transcript = result[\"text\"]\n",
    "\n",
    "# Save transcript\n",
    "with open(\"transcript.txt\", \"w\") as f:\n",
    "    f.write(english_transcript)\n"
   ]
  },
  {
   "cell_type": "code",
   "execution_count": 21,
   "metadata": {},
   "outputs": [],
   "source": [
    "from googletrans import Translator\n",
    "\n",
    "translator = Translator()\n",
    "english_transcript = open(\"transcript.txt\").read()\n",
    "\n",
    "# Translate to Indonesian\n",
    "translated = translator.translate(english_transcript, src='en', dest='id')\n",
    "indonesian_transcript = translated.text\n",
    "\n",
    "# Save translated transcript\n",
    "with open(\"translated_transcript.txt\", \"w\") as f:\n",
    "    f.write(indonesian_transcript)\n"
   ]
  },
  {
   "cell_type": "code",
   "execution_count": 22,
   "metadata": {},
   "outputs": [],
   "source": [
    "from gtts import gTTS\n",
    "\n",
    "indonesian_transcript = open(\"translated_transcript.txt\").read()\n",
    "\n",
    "tts = gTTS(indonesian_transcript, lang='id')\n",
    "tts.save(\"indonesian_dubbed_audio.wav\")\n"
   ]
  },
  {
   "cell_type": "code",
   "execution_count": 23,
   "metadata": {},
   "outputs": [
    {
     "name": "stdout",
     "output_type": "stream",
     "text": [
      "Video Duration: 226.944 seconds\n"
     ]
    },
    {
     "data": {
      "text/plain": [
       "(None, None)"
      ]
     },
     "execution_count": 23,
     "metadata": {},
     "output_type": "execute_result"
    }
   ],
   "source": [
    "input_video = 'input_video.mp4'\n",
    "probe = ffmpeg.probe(input_video)\n",
    "duration_sec = float(probe['format']['duration'])\n",
    "print(f\"Video Duration: {duration_sec} seconds\")\n",
    "\n",
    "# Input audio file\n",
    "input_audio = 'indonesian_dubbed_audio.wav'\n",
    "target_duration = duration_sec\n",
    "probe = ffmpeg.probe(input_audio)\n",
    "original_duration = float(probe['format']['duration'])\n",
    "speed_ratio = original_duration / target_duration\n",
    "(\n",
    "    ffmpeg\n",
    "    .input(input_audio)\n",
    "    .filter('atempo', speed_ratio)\n",
    "    .output('sped_up_audio.wav')\n",
    "    .run()\n",
    ")"
   ]
  },
  {
   "cell_type": "code",
   "execution_count": 24,
   "metadata": {},
   "outputs": [
    {
     "data": {
      "text/plain": [
       "(None, None)"
      ]
     },
     "execution_count": 24,
     "metadata": {},
     "output_type": "execute_result"
    }
   ],
   "source": [
    "input_video = ffmpeg.input('input_video.mp4')\n",
    "input_audio = ffmpeg.input('sped_up_audio.wav')\n",
    "ffmpeg.concat(input_video, input_audio, v=1, a=1).output('output_video_with_dub.mp4').run()"
   ]
  }
 ],
 "metadata": {
  "kernelspec": {
   "display_name": ".venv",
   "language": "python",
   "name": "python3"
  },
  "language_info": {
   "codemirror_mode": {
    "name": "ipython",
    "version": 3
   },
   "file_extension": ".py",
   "mimetype": "text/x-python",
   "name": "python",
   "nbconvert_exporter": "python",
   "pygments_lexer": "ipython3",
   "version": "3.9.13"
  }
 },
 "nbformat": 4,
 "nbformat_minor": 2
}
