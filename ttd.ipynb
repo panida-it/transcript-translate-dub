{
 "cells": [
  {
   "cell_type": "code",
   "execution_count": 13,
   "metadata": {},
   "outputs": [],
   "source": [
    "import os\n",
    "\n",
    "myfile = \"output_audio.wav\"\n",
    "if os.path.isfile(myfile):\n",
    "    os.remove(myfile)\n",
    "myfile = \"transcript.txt\"\n",
    "if os.path.isfile(myfile):\n",
    "    os.remove(myfile)\n",
    "myfile = \"translated_transcript.txt\"\n",
    "if os.path.isfile(myfile):\n",
    "    os.remove(myfile)\n",
    "myfile = \"indonesian_dubbed_audio.wav\"\n",
    "if os.path.isfile(myfile):\n",
    "    os.remove(myfile)\n",
    "myfile = \"sped_up_audio.wav\"\n",
    "if os.path.isfile(myfile):\n",
    "    os.remove(myfile)\n",
    "myfile = \"output_video_with_dub.mp4\"\n",
    "if os.path.isfile(myfile):\n",
    "    os.remove(myfile)"
   ]
  },
  {
   "cell_type": "code",
   "execution_count": 14,
   "metadata": {},
   "outputs": [
    {
     "data": {
      "text/plain": [
       "(None, None)"
      ]
     },
     "execution_count": 14,
     "metadata": {},
     "output_type": "execute_result"
    }
   ],
   "source": [
    "import ffmpeg\n",
    "(\n",
    "\tffmpeg.input(\"input_video.mp4\")\n",
    "\t.output(\"output_audio.wav\")\n",
    "\t.run()\n",
    ")"
   ]
  },
  {
   "cell_type": "code",
   "execution_count": 15,
   "metadata": {},
   "outputs": [
    {
     "name": "stderr",
     "output_type": "stream",
     "text": [
      "c:\\git\\panida-it\\transcript-translate-dub\\.venv\\lib\\site-packages\\whisper\\__init__.py:146: FutureWarning: You are using `torch.load` with `weights_only=False` (the current default value), which uses the default pickle module implicitly. It is possible to construct malicious pickle data which will execute arbitrary code during unpickling (See https://github.com/pytorch/pytorch/blob/main/SECURITY.md#untrusted-models for more details). In a future release, the default value for `weights_only` will be flipped to `True`. This limits the functions that could be executed during unpickling. Arbitrary objects will no longer be allowed to be loaded via this mode unless they are explicitly allowlisted by the user via `torch.serialization.add_safe_globals`. We recommend you start setting `weights_only=True` for any use case where you don't have full control of the loaded file. Please open an issue on GitHub for any issues related to this experimental feature.\n",
      "  checkpoint = torch.load(fp, map_location=device)\n",
      "c:\\git\\panida-it\\transcript-translate-dub\\.venv\\lib\\site-packages\\whisper\\transcribe.py:126: UserWarning: FP16 is not supported on CPU; using FP32 instead\n",
      "  warnings.warn(\"FP16 is not supported on CPU; using FP32 instead\")\n"
     ]
    }
   ],
   "source": [
    "import whisper\n",
    "\n",
    "model = whisper.load_model(\"base\")\n",
    "result = model.transcribe(\"output_audio.wav\")\n",
    "english_transcript = result[\"text\"]\n",
    "\n",
    "# Save transcript\n",
    "with open(\"transcript.txt\", \"w\") as f:\n",
    "    f.write(english_transcript)\n"
   ]
  },
  {
   "cell_type": "code",
   "execution_count": 16,
   "metadata": {},
   "outputs": [],
   "source": [
    "from googletrans import Translator\n",
    "\n",
    "translator = Translator()\n",
    "english_transcript = open(\"transcript.txt\").read()\n",
    "\n",
    "# Translate to Indonesian\n",
    "translated = translator.translate(english_transcript, src='en', dest='id')\n",
    "indonesian_transcript = translated.text\n",
    "\n",
    "# Save translated transcript\n",
    "with open(\"translated_transcript.txt\", \"w\") as f:\n",
    "    f.write(indonesian_transcript)\n"
   ]
  },
  {
   "cell_type": "code",
   "execution_count": 17,
   "metadata": {},
   "outputs": [
    {
     "ename": "UnicodeDecodeError",
     "evalue": "'cp932' codec can't decode byte 0x9d in position 4277: illegal multibyte sequence",
     "output_type": "error",
     "traceback": [
      "\u001b[1;31m---------------------------------------------------------------------------\u001b[0m",
      "\u001b[1;31mUnicodeDecodeError\u001b[0m                        Traceback (most recent call last)",
      "Cell \u001b[1;32mIn[17], line 3\u001b[0m\n\u001b[0;32m      1\u001b[0m \u001b[38;5;28;01mfrom\u001b[39;00m \u001b[38;5;21;01mgtts\u001b[39;00m \u001b[38;5;28;01mimport\u001b[39;00m gTTS\n\u001b[1;32m----> 3\u001b[0m indonesian_transcript \u001b[38;5;241m=\u001b[39m \u001b[38;5;28;43mopen\u001b[39;49m\u001b[43m(\u001b[49m\u001b[38;5;124;43m\"\u001b[39;49m\u001b[38;5;124;43mtranslated_transcript.txt\u001b[39;49m\u001b[38;5;124;43m\"\u001b[39;49m\u001b[43m)\u001b[49m\u001b[38;5;241;43m.\u001b[39;49m\u001b[43mread\u001b[49m\u001b[43m(\u001b[49m\u001b[43m)\u001b[49m\n\u001b[0;32m      5\u001b[0m tts \u001b[38;5;241m=\u001b[39m gTTS(indonesian_transcript, lang\u001b[38;5;241m=\u001b[39m\u001b[38;5;124m'\u001b[39m\u001b[38;5;124mid\u001b[39m\u001b[38;5;124m'\u001b[39m)\n\u001b[0;32m      6\u001b[0m tts\u001b[38;5;241m.\u001b[39msave(\u001b[38;5;124m\"\u001b[39m\u001b[38;5;124mindonesian_dubbed_audio.wav\u001b[39m\u001b[38;5;124m\"\u001b[39m)\n",
      "\u001b[1;31mUnicodeDecodeError\u001b[0m: 'cp932' codec can't decode byte 0x9d in position 4277: illegal multibyte sequence"
     ]
    }
   ],
   "source": [
    "from gtts import gTTS\n",
    "\n",
    "indonesian_transcript = open(\"translated_transcript.txt\").read()\n",
    "\n",
    "tts = gTTS(indonesian_transcript, lang='id')\n",
    "tts.save(\"indonesian_dubbed_audio.wav\")\n"
   ]
  },
  {
   "cell_type": "code",
   "execution_count": 10,
   "metadata": {},
   "outputs": [
    {
     "name": "stdout",
     "output_type": "stream",
     "text": [
      "Video Duration: 226.944 seconds\n"
     ]
    },
    {
     "data": {
      "text/plain": [
       "(None, None)"
      ]
     },
     "execution_count": 10,
     "metadata": {},
     "output_type": "execute_result"
    }
   ],
   "source": [
    "input_video = 'input_video.mp4'\n",
    "probe = ffmpeg.probe(input_video)\n",
    "duration_sec = float(probe['format']['duration'])\n",
    "print(f\"Video Duration: {duration_sec} seconds\")\n",
    "\n",
    "# Input audio file\n",
    "input_audio = 'indonesian_dubbed_audio.wav'\n",
    "target_duration = duration_sec\n",
    "probe = ffmpeg.probe(input_audio)\n",
    "original_duration = float(probe['format']['duration'])\n",
    "speed_ratio = original_duration / target_duration\n",
    "(\n",
    "    ffmpeg\n",
    "    .input(input_audio)\n",
    "    .filter('atempo', speed_ratio)\n",
    "    .output('sped_up_audio.wav')\n",
    "    .run()\n",
    ")"
   ]
  },
  {
   "cell_type": "code",
   "execution_count": 11,
   "metadata": {},
   "outputs": [
    {
     "data": {
      "text/plain": [
       "(None, None)"
      ]
     },
     "execution_count": 11,
     "metadata": {},
     "output_type": "execute_result"
    }
   ],
   "source": [
    "input_video = ffmpeg.input('input_video.mp4')\n",
    "input_audio = ffmpeg.input('sped_up_audio.wav')\n",
    "ffmpeg.concat(input_video, input_audio, v=1, a=1).output('output_video_with_dub.mp4').run()"
   ]
  }
 ],
 "metadata": {
  "kernelspec": {
   "display_name": ".venv",
   "language": "python",
   "name": "python3"
  },
  "language_info": {
   "codemirror_mode": {
    "name": "ipython",
    "version": 3
   },
   "file_extension": ".py",
   "mimetype": "text/x-python",
   "name": "python",
   "nbconvert_exporter": "python",
   "pygments_lexer": "ipython3",
   "version": "3.9.13"
  }
 },
 "nbformat": 4,
 "nbformat_minor": 2
}
